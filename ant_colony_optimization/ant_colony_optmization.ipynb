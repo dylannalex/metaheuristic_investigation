{
 "cells": [
  {
   "attachments": {},
   "cell_type": "markdown",
   "metadata": {},
   "source": [
    "# Ant Colony Optimization"
   ]
  },
  {
   "attachments": {},
   "cell_type": "markdown",
   "metadata": {},
   "source": [
    "# Documentation\n",
    "\n",
    "## tsp module\n",
    "\n",
    "`cost(solution, distance_matrix, round_trip)`: returns the cost of a solution.\n",
    "* *solution (np.ndarray):* list of cities indexes in the order they are visited.\n",
    "* *distance_matrix (np.ndarray):* distance matrix between all cities.\n",
    "* *round_trip (bool):* if True, the solution is a round trip. Default: True.\n",
    "\n",
    "`read_tsp_file(file_name)`: reads data from a file and returns a pandas DataFrame.\n",
    "* *file_name (str):* file name to read\n",
    "\n",
    "\n",
    "`distance(city1, city2)`: returns the distance between two cities.\n",
    "* *city1 (tuple[int, int]):* first city coordinates.\n",
    "* *city2 (tuple[int, int]):* second city coordinates.\n",
    "  \n",
    "`distance_matrix(df)`: returns the distance matrix between all cities.\n",
    "* *df (pandas.DataFrame):* DataFrame containing the cities coordinates.\n",
    "\n",
    "`plot_solution_path(df, solution, figsize, path_alpha)`: plots the solution path.\n",
    "* *df (pandas.DataFrame):* DataFrame containing the cities coordinates.\n",
    "* *solution (list[int]):* list of cities indexes in the order they are visited.\n",
    "* *figsize (tuple[int, int]):* figure size. Default: (10, 10).\n",
    "* *path_alpha (float):* path transparency. Default: 0.5.\n",
    "\n",
    "\n",
    "## ant_system module\n",
    "\n",
    "`AntSystem(distance_matrix, alpha, beta, evaporation_rate, n_ants, round_trip, rng)`: Ant System implementation.\n",
    "* *distance_matrix (np.ndarray):* distance matrix between all cities.\n",
    "* *alpha (float):* pheromone influence ($\\alpha \\geq 0$).\n",
    "* *beta (float):* distance influence ($\\beta \\geq 0$).\n",
    "* *evaporation_rate (float):* pheromone evaporation rate ($0 \\leq \\rho \\leq 1$).\n",
    "* *n_ants (int):* number of ants ($n \\geq 1$).\n",
    "* *round_trip (bool):* if True, the solution is a round trip.\n",
    "* *rng (np.random.Generator):* random number generator.\n",
    "\n",
    "\n",
    "`AntSystem.initialization()`: initializes the tabu list. Each ant starts from a random city.\n",
    "\n",
    "`AntSystem.next_city(ant, current_city_index)`: returns the next city to visit.\n",
    "* *ant (int):* ant number.\n",
    "* *current_city_index (int):* current city index of the tabu list.\n",
    "* *Returns (int):* next city index.\n",
    "\n",
    "`AntSystem.cycle()`: runs a cycle of the algorithm.\n",
    "\n",
    "`AntSystem.cycle_best_solutions(n)`: returns the $n$ best solutions of the cycle.\n",
    "* *n (int):* number of best solutions to return.\n",
    "* *Returns (np.ndarray):* n array of shape (n, n_cities) containing the $n$ best solutions.\n",
    "\n",
    "\n",
    "`AntSystem.evaporation()`: evaporates the pheromones.\n",
    "\n",
    "`AntSystem.reinforcement()`: reinforce the pheromones.\n",
    "\n",
    "`AntSystem.run(max_cycles, verbose)`: runs the algorithm.\n",
    "* *max_cycles (int):* maximum number of cycles.\n",
    "* *verbose (bool):* if True, prints the best solution and its cost at each cycle. Default: False.\n",
    "* *Returns (np.ndarray):* best solution found.\n"
   ]
  }
 ],
 "metadata": {
  "kernelspec": {
   "display_name": "venv",
   "language": "python",
   "name": "python3"
  },
  "language_info": {
   "codemirror_mode": {
    "name": "ipython",
    "version": 3
   },
   "file_extension": ".py",
   "mimetype": "text/x-python",
   "name": "python",
   "nbconvert_exporter": "python",
   "pygments_lexer": "ipython3",
   "version": "3.11.2"
  },
  "orig_nbformat": 4
 },
 "nbformat": 4,
 "nbformat_minor": 2
}
